{
 "cells": [
  {
   "cell_type": "code",
   "execution_count": 1,
   "metadata": {
    "colab": {},
    "colab_type": "code",
    "id": "F_bLHq2aCW98"
   },
   "outputs": [],
   "source": [
    "import matplotlib.pyplot as plt\n",
    "import numpy as np\n",
    "import pandas as pd\n",
    "from scipy import stats\n",
    "import seaborn as sns\n",
    "import scipy.stats as ss\n",
    "from pandas_datareader import DataReader\n",
    "from datetime import datetime\n",
    "\n",
    "# Make plots larger\n",
    "plt.rcParams['figure.figsize'] = (15, 9)"
   ]
  },
  {
   "cell_type": "code",
   "execution_count": 2,
   "metadata": {
    "colab": {
     "base_uri": "https://localhost:8080/",
     "height": 204
    },
    "colab_type": "code",
    "id": "LiarGSfFQh5B",
    "outputId": "c2bf6b3d-0186-449e-a675-7bb8a60e3f9e"
   },
   "outputs": [
    {
     "data": {
      "text/html": [
       "<div>\n",
       "<style scoped>\n",
       "    .dataframe tbody tr th:only-of-type {\n",
       "        vertical-align: middle;\n",
       "    }\n",
       "\n",
       "    .dataframe tbody tr th {\n",
       "        vertical-align: top;\n",
       "    }\n",
       "\n",
       "    .dataframe thead th {\n",
       "        text-align: right;\n",
       "    }\n",
       "</style>\n",
       "<table border=\"1\" class=\"dataframe\">\n",
       "  <thead>\n",
       "    <tr style=\"text-align: right;\">\n",
       "      <th></th>\n",
       "      <th>Date</th>\n",
       "      <th>High</th>\n",
       "      <th>Low</th>\n",
       "      <th>Open</th>\n",
       "      <th>Close</th>\n",
       "      <th>Volume</th>\n",
       "      <th>Adj Close</th>\n",
       "    </tr>\n",
       "  </thead>\n",
       "  <tbody>\n",
       "    <tr>\n",
       "      <th>0</th>\n",
       "      <td>2016-03-31</td>\n",
       "      <td>115.010002</td>\n",
       "      <td>113.769997</td>\n",
       "      <td>114.699997</td>\n",
       "      <td>114.099998</td>\n",
       "      <td>21207500</td>\n",
       "      <td>114.099998</td>\n",
       "    </tr>\n",
       "    <tr>\n",
       "      <th>1</th>\n",
       "      <td>2016-04-01</td>\n",
       "      <td>116.169998</td>\n",
       "      <td>113.349998</td>\n",
       "      <td>113.750000</td>\n",
       "      <td>116.059998</td>\n",
       "      <td>24760500</td>\n",
       "      <td>116.059998</td>\n",
       "    </tr>\n",
       "    <tr>\n",
       "      <th>2</th>\n",
       "      <td>2016-04-04</td>\n",
       "      <td>114.550003</td>\n",
       "      <td>111.610001</td>\n",
       "      <td>114.070000</td>\n",
       "      <td>112.550003</td>\n",
       "      <td>48487900</td>\n",
       "      <td>112.550003</td>\n",
       "    </tr>\n",
       "    <tr>\n",
       "      <th>3</th>\n",
       "      <td>2016-04-05</td>\n",
       "      <td>113.320000</td>\n",
       "      <td>111.900002</td>\n",
       "      <td>112.110001</td>\n",
       "      <td>112.220001</td>\n",
       "      <td>22962400</td>\n",
       "      <td>112.220001</td>\n",
       "    </tr>\n",
       "    <tr>\n",
       "      <th>4</th>\n",
       "      <td>2016-04-06</td>\n",
       "      <td>113.809998</td>\n",
       "      <td>112.419998</td>\n",
       "      <td>112.470001</td>\n",
       "      <td>113.709999</td>\n",
       "      <td>20814600</td>\n",
       "      <td>113.709999</td>\n",
       "    </tr>\n",
       "  </tbody>\n",
       "</table>\n",
       "</div>"
      ],
      "text/plain": [
       "        Date        High         Low        Open       Close    Volume  \\\n",
       "0 2016-03-31  115.010002  113.769997  114.699997  114.099998  21207500   \n",
       "1 2016-04-01  116.169998  113.349998  113.750000  116.059998  24760500   \n",
       "2 2016-04-04  114.550003  111.610001  114.070000  112.550003  48487900   \n",
       "3 2016-04-05  113.320000  111.900002  112.110001  112.220001  22962400   \n",
       "4 2016-04-06  113.809998  112.419998  112.470001  113.709999  20814600   \n",
       "\n",
       "    Adj Close  \n",
       "0  114.099998  \n",
       "1  116.059998  \n",
       "2  112.550003  \n",
       "3  112.220001  \n",
       "4  113.709999  "
      ]
     },
     "execution_count": 2,
     "metadata": {},
     "output_type": "execute_result"
    }
   ],
   "source": [
    "facebook = DataReader('FB',  'yahoo', datetime(2016,4,1), datetime(2019,9,1));\n",
    "facebook.reset_index(inplace=True,drop=False)\n",
    "facebook.set_index('Date')\n",
    "facebook.head()"
   ]
  },
  {
   "cell_type": "code",
   "execution_count": 4,
   "metadata": {
    "colab": {},
    "colab_type": "code",
    "id": "SM1FRZiZCW-D"
   },
   "outputs": [],
   "source": [
    "facebook['OpenClose']= (facebook['Open']+ facebook['Close'])/2\n",
    "facebook['HighLow'] = (facebook['High']+ facebook['Low'])/2"
   ]
  },
  {
   "cell_type": "code",
   "execution_count": 10,
   "metadata": {
    "colab": {
     "base_uri": "https://localhost:8080/",
     "height": 442
    },
    "colab_type": "code",
    "id": "TgkJ1XSGCW-F",
    "outputId": "2930e378-bddf-40a7-9712-fb3503d735a3"
   },
   "outputs": [
    {
     "name": "stdout",
     "output_type": "stream",
     "text": [
      "          Date        High         Low  ...   HML     RF  ADS_Index\n",
      "0   2016-04-01  116.169998  113.349998  ... -0.62  0.000  -0.597141\n",
      "1   2016-04-04  114.550003  111.610001  ... -0.74  0.000  -0.572479\n",
      "2   2016-04-05  113.320000  111.900002  ... -0.36  0.000  -0.565193\n",
      "3   2016-04-06  113.809998  112.419998  ... -0.82  0.000  -0.558550\n",
      "4   2016-04-07  114.889999  113.070000  ... -0.35  0.000  -0.552552\n",
      "..         ...         ...         ...  ...   ...    ...        ...\n",
      "856 2019-08-26  180.500000  178.240005  ... -0.21  0.007  -0.004019\n",
      "857 2019-08-27  184.039993  181.009995  ... -0.68  0.007  -0.014407\n",
      "858 2019-08-28  181.949997  178.919998  ...  0.62  0.007  -0.025766\n",
      "859 2019-08-29  186.080002  183.470001  ...  0.34  0.007  -0.038098\n",
      "860 2019-08-30  186.800003  183.460007  ...  0.26  0.007  -0.051404\n",
      "\n",
      "[861 rows x 12 columns]\n"
     ]
    },
    {
     "data": {
      "text/html": [
       "<div>\n",
       "<style scoped>\n",
       "    .dataframe tbody tr th:only-of-type {\n",
       "        vertical-align: middle;\n",
       "    }\n",
       "\n",
       "    .dataframe tbody tr th {\n",
       "        vertical-align: top;\n",
       "    }\n",
       "\n",
       "    .dataframe thead th {\n",
       "        text-align: right;\n",
       "    }\n",
       "</style>\n",
       "<table border=\"1\" class=\"dataframe\">\n",
       "  <thead>\n",
       "    <tr style=\"text-align: right;\">\n",
       "      <th></th>\n",
       "      <th>Date</th>\n",
       "      <th>High</th>\n",
       "      <th>Low</th>\n",
       "      <th>Open</th>\n",
       "      <th>Close</th>\n",
       "      <th>Volume</th>\n",
       "      <th>Adj Close</th>\n",
       "      <th>Mkt-RF</th>\n",
       "      <th>SMB</th>\n",
       "      <th>HML</th>\n",
       "      <th>RF</th>\n",
       "      <th>ADS_Index</th>\n",
       "      <th>open_tmr</th>\n",
       "    </tr>\n",
       "  </thead>\n",
       "  <tbody>\n",
       "    <tr>\n",
       "      <th>0</th>\n",
       "      <td>2016-04-01</td>\n",
       "      <td>116.169998</td>\n",
       "      <td>113.349998</td>\n",
       "      <td>113.750000</td>\n",
       "      <td>116.059998</td>\n",
       "      <td>24760500</td>\n",
       "      <td>116.059998</td>\n",
       "      <td>0.64</td>\n",
       "      <td>-0.25</td>\n",
       "      <td>-0.62</td>\n",
       "      <td>0.0</td>\n",
       "      <td>-0.597141</td>\n",
       "      <td>114.070000</td>\n",
       "    </tr>\n",
       "    <tr>\n",
       "      <th>1</th>\n",
       "      <td>2016-04-04</td>\n",
       "      <td>114.550003</td>\n",
       "      <td>111.610001</td>\n",
       "      <td>114.070000</td>\n",
       "      <td>112.550003</td>\n",
       "      <td>48487900</td>\n",
       "      <td>112.550003</td>\n",
       "      <td>-0.41</td>\n",
       "      <td>-0.25</td>\n",
       "      <td>-0.74</td>\n",
       "      <td>0.0</td>\n",
       "      <td>-0.572479</td>\n",
       "      <td>112.110001</td>\n",
       "    </tr>\n",
       "    <tr>\n",
       "      <th>2</th>\n",
       "      <td>2016-04-05</td>\n",
       "      <td>113.320000</td>\n",
       "      <td>111.900002</td>\n",
       "      <td>112.110001</td>\n",
       "      <td>112.220001</td>\n",
       "      <td>22962400</td>\n",
       "      <td>112.220001</td>\n",
       "      <td>-0.94</td>\n",
       "      <td>-0.08</td>\n",
       "      <td>-0.36</td>\n",
       "      <td>0.0</td>\n",
       "      <td>-0.565193</td>\n",
       "      <td>112.470001</td>\n",
       "    </tr>\n",
       "    <tr>\n",
       "      <th>3</th>\n",
       "      <td>2016-04-06</td>\n",
       "      <td>113.809998</td>\n",
       "      <td>112.419998</td>\n",
       "      <td>112.470001</td>\n",
       "      <td>113.709999</td>\n",
       "      <td>20814600</td>\n",
       "      <td>113.709999</td>\n",
       "      <td>1.14</td>\n",
       "      <td>0.17</td>\n",
       "      <td>-0.82</td>\n",
       "      <td>0.0</td>\n",
       "      <td>-0.558550</td>\n",
       "      <td>113.790001</td>\n",
       "    </tr>\n",
       "    <tr>\n",
       "      <th>4</th>\n",
       "      <td>2016-04-07</td>\n",
       "      <td>114.889999</td>\n",
       "      <td>113.070000</td>\n",
       "      <td>113.790001</td>\n",
       "      <td>113.639999</td>\n",
       "      <td>20714500</td>\n",
       "      <td>113.639999</td>\n",
       "      <td>-1.23</td>\n",
       "      <td>-0.05</td>\n",
       "      <td>-0.35</td>\n",
       "      <td>0.0</td>\n",
       "      <td>-0.552552</td>\n",
       "      <td>114.250000</td>\n",
       "    </tr>\n",
       "  </tbody>\n",
       "</table>\n",
       "</div>"
      ],
      "text/plain": [
       "        Date        High         Low  ...   RF  ADS_Index    open_tmr\n",
       "0 2016-04-01  116.169998  113.349998  ...  0.0  -0.597141  114.070000\n",
       "1 2016-04-04  114.550003  111.610001  ...  0.0  -0.572479  112.110001\n",
       "2 2016-04-05  113.320000  111.900002  ...  0.0  -0.565193  112.470001\n",
       "3 2016-04-06  113.809998  112.419998  ...  0.0  -0.558550  113.790001\n",
       "4 2016-04-07  114.889999  113.070000  ...  0.0  -0.552552  114.250000\n",
       "\n",
       "[5 rows x 13 columns]"
      ]
     },
     "execution_count": 10,
     "metadata": {
      "tags": []
     },
     "output_type": "execute_result"
    }
   ],
   "source": [
    "    ADS = pd.read_excel('/content/ADS_Index_Most_Current.xlsx')\n",
    "    #Change name and format of date-column\n",
    "    ADS = ADS.rename(columns={'Unnamed: 0': 'Date'})\n",
    "    ADS['Date'] = pd.to_datetime(ADS['Date'],  format = \"%Y%m%d\")\n",
    "    ADS.index = ADS['Date']\n",
    "    ADS.drop(ADS.columns[0], axis=1,inplace=False)\n",
    "\n",
    "    #Drop Days in YYYY-MM-DD\n",
    "    ADS.index = ADS.index.map(lambda x: x.strftime('%Y-%m-%d'))\n",
    "\n",
    "    #Time Slice\n",
    "    ADS.tail()\n",
    "    ADS = ADS.loc['2016-04-01':'2019-09-01']\n",
    "    ADS.index.rename('Unnamed: 0',inplace=True)\n",
    "    #print(ADS)\n",
    "    \n",
    "    FF3 = pd.read_csv('/content/F-F_Research_Data_Factors_daily.CSV',skiprows=4)\n",
    "    \n",
    "    T = FF3.shape[0]\n",
    "    #print(T)\n",
    "\n",
    "    #Drop last row of data - String\n",
    "    FF3 = FF3[:T-2]\n",
    "\n",
    "    #Convert YYYYMM into Date\n",
    "    FF3['Unnamed: 0'] = pd.to_datetime(FF3['Unnamed: 0'],  format = \"%Y%m%d\")\n",
    "    FF3.index = FF3['Unnamed: 0']\n",
    "    FF3.drop(FF3.columns[0], axis=1,inplace=False)\n",
    "\n",
    "    #Drop Days in YYYY-MM-DD\n",
    "    FF3.index = FF3.index.map(lambda x: x.strftime('%Y-%m-%d'))\n",
    "\n",
    "    FF3.tail()\n",
    "    \n",
    "    #Time Slice\n",
    "    FF3 = FF3.loc['2016-04-01':'2019-09-01']\n",
    "    FF3 = FF3.rename(columns={'Unnamed: 0': 'Date'})\n",
    "    # print(FF3)\n",
    "    FB = DataReader('FB',  'yahoo', datetime(2016,4,1), datetime(2019,9,1));\n",
    "    FB.reset_index(inplace=True,drop=False)\n",
    "    FB.set_index('Date')\n",
    "    FB['Date'].dtype\n",
    "    FB['Date'] = pd.to_datetime(FB['Date'],  format = \"%Y%m%d\")\n",
    "    FB.index = FB['Date']\n",
    "    FB.drop(FB.columns[0], axis=1,inplace=False)\n",
    "\n",
    "    #Drop Days in YYYY-MM-DD\n",
    "    FB.index = FB.index.map(lambda x: x.strftime('%Y-%m-%d'))\n",
    "\n",
    "    FB.tail()\n",
    "    FB = FB.loc['2016-04-01':'2019-09-01']\n",
    "    FB.index.rename('Unnamed: 0',inplace=True)\n",
    "    # print(FB)\n",
    "    T = FF3.shape[0]\n",
    "    \n",
    "    #Merge three data\n",
    "    temp = pd.merge(FB,FF3)\n",
    "    new_Data = pd.merge(temp,ADS)\n",
    "    print(new_Data)\n",
    "    new_Data['open_tmr'] = new_Data['Open'].shift(-1)\n",
    "    #Use yesterday's ADS-index, FF3, Close-price to predict today's Open-price\n",
    "    \n",
    "    Y = new_Data[['open_tmr']].values[:-1]\n",
    "    X = new_Data[['Mkt-RF','SMB','HML','Close','ADS_Index']].values[1:]\n",
    "    N = X.shape\n",
    "    #print(N,'+',Y.shape)\n",
    "    #print(Y)\n",
    "    new_Data.head()\n",
    "    #temp.head()"
   ]
  },
  {
   "cell_type": "code",
   "execution_count": 11,
   "metadata": {
    "colab": {},
    "colab_type": "code",
    "id": "h1FH9MvnCW-I"
   },
   "outputs": [],
   "source": [
    "def fama(X,Y):\n",
    "    T = FF3.shape[0]\n",
    "    N = X.shape\n",
    "    'OLS REGRESSION STARTS'\n",
    "    'LINEAR REGRESSION of Y: T x 1 on'\n",
    "    'Regressors X: T x N'\n",
    "    invXX = np.linalg.inv(X.transpose()@X)\n",
    "    #print(invXX.shape)\n",
    "    'OLS_estimates for coefficents: X x 1'\n",
    "    beta_hat = invXX@X.transpose()@Y\n",
    "\n",
    "    'Predictive value of Y using OLS'\n",
    "    y_hat = X@beta_hat\n",
    "    'Residuals from OLS'\n",
    "    residuals = Y - y_hat\n",
    "    'Variance of Residuals'\n",
    "    sigma2 = (1/T)*residuals.transpose()@residuals\n",
    "    'standard deviation of Y or residuals'\n",
    "    sigma = np.sqrt(sigma2)\n",
    "    'variance-covariance matrix of beta_hat'\n",
    "    varcov_beta_hat = (sigma2)*invXX\n",
    "    std_beta_hat = np.sqrt(T*np.diag(varcov_beta_hat))\n",
    "\n",
    "    'Calculate R-square'\n",
    "    R_square = 1 - (residuals.transpose()@residuals)/(T*np.var(Y))\n",
    "    adj_R_square = 1-(1-R_square)*(T-1)/(T-N[1])\n",
    "\n",
    "    'Test Each Coefficient: beta_i'\n",
    "    'Null Hypothesis: beta_i = 0'\n",
    "    t_stat = (beta_hat.transpose()-0)/std_beta_hat\n",
    "    p_val = 1-ss.norm.cdf(t_stat)\n",
    "\n",
    "    'Test of Joint Significance of Model'\n",
    "    F_stat = (beta_hat.transpose()@np.linalg.inv(varcov_beta_hat)@beta_hat/N[1])/\\\n",
    "    (residuals.transpose()@residuals/(T-N[1]))\n",
    "    p_val_F = 1 - ss.f.cdf(F_stat,N[1]-1,T-N[1])\n",
    "    \n",
    "    rmse = np.sqrt(np.mean((y_hat-Y)**2))\n",
    "    \n",
    "    return beta_hat,y_hat\n"
   ]
  },
  {
   "cell_type": "code",
   "execution_count": 12,
   "metadata": {
    "colab": {
     "base_uri": "https://localhost:8080/",
     "height": 554
    },
    "colab_type": "code",
    "id": "xrzIFbEBCW-L",
    "outputId": "3097c6c4-ba9e-423b-846a-1184c293f739"
   },
   "outputs": [
    {
     "data": {
      "text/plain": [
       "[<matplotlib.lines.Line2D at 0x7f5600c1d668>]"
      ]
     },
     "execution_count": 12,
     "metadata": {
      "tags": []
     },
     "output_type": "execute_result"
    },
    {
     "data": {
      "image/png": "[encoded data removed]",
      "text/plain": [
       "<Figure size 1080x648 with 1 Axes>"
      ]
     },
     "metadata": {
      "needs_background": "light",
      "tags": []
     },
     "output_type": "display_data"
    }
   ],
   "source": [
    "y_hat = fama(X,Y)[1]\n",
    "plt.plot(y_hat)\n",
    "plt.plot(Y)"
   ]
  },
  {
   "cell_type": "code",
   "execution_count": 13,
   "metadata": {
    "colab": {},
    "colab_type": "code",
    "id": "62EIXDryCW-N"
   },
   "outputs": [],
   "source": [
    "def bootstrap():\n",
    "    T = 250\n",
    "    #print(T)\n",
    "    N = X.shape[0]\n",
    "    #print(N)\n",
    "    \n",
    "    yhat_ar1 = np.zeros(N-(T+1))\n",
    "    window = 200\n",
    "    num_boost = 500 # increase\n",
    "    \n",
    "    for t in range(T+1,N):\n",
    "        X_train = new_Data[['Mkt-RF','SMB','HML','Close','ADS_Index']][t-window:t-1]\n",
    "        X_train = np.column_stack([np.ones((len(X_train),1)),X_train])\n",
    "        Y_train = facebook['Open'][t-window:t-1].values\n",
    "       # print(X_train.shape)\n",
    "       # print(Y_train.shape)\n",
    "       \n",
    "        X_pred = new_Data[['Mkt-RF','SMB','HML','Close','ADS_Index']][t-1:t]\n",
    "        X_pred = np.column_stack([np.ones((len(X_pred),1)),X_pred])\n",
    "\n",
    "        yhat_train = fama(X_train , Y_train)[1]\n",
    "        res_train = Y_train - yhat_train\n",
    "       \n",
    "        y_pred_all = np.zeros(num_boost)\n",
    "       \n",
    "        for i in range (0,num_boost):\n",
    "            err = np.random.choice(res_train,(window-1, ),replace = True)\n",
    "            y_bstr = yhat_train + err\n",
    "            beta_bstr = fama(X_train,y_bstr)[0]\n",
    "           # print(X_pred.shape)\n",
    "           # print(beta_bstr.shape)\n",
    "\n",
    "            y_pred_bstr = X_pred@beta_bstr\n",
    "            y_pred_all[i] = y_pred_bstr\n",
    "           \n",
    "        y_pred_ar1 = y_pred_all.mean()\n",
    "       \n",
    "        yhat_ar1[t-(T+1)] = y_pred_ar1\n",
    "   \n",
    "   \n",
    "    rmse_ar1 = np.sqrt(np.mean((Y - yhat_ar1)**2))\n",
    "   \n",
    "    return yhat_ar1,rmse_ar1"
   ]
  },
  {
   "cell_type": "code",
   "execution_count": 14,
   "metadata": {
    "colab": {
     "base_uri": "https://localhost:8080/",
     "height": 34
    },
    "colab_type": "code",
    "id": "3CFpELc3CW-Q",
    "outputId": "f37e3470-c0ff-45f8-f624-63acf390c63e"
   },
   "outputs": [
    {
     "data": {
      "text/plain": [
       "34.29035374640737"
      ]
     },
     "execution_count": 14,
     "metadata": {
      "tags": []
     },
     "output_type": "execute_result"
    }
   ],
   "source": [
    "rmse = bootstrap()[1]\n",
    "rmse"
   ]
  },
  {
   "cell_type": "markdown",
   "metadata": {},
   "source": [
    "## Professionalism\n",
    "50% Minghao Ru\n",
    "\n",
    "50% Tong Yang\n",
    "\n",
    "\n",
    "## Licensing\n",
    "Copyright <2020> Minghao Ru, Tong Yang\n",
    "\n",
    "Permission is hereby granted, free of charge, to any person obtaining a copy of this software and associated documentation files (the \"Software\"), to deal in the Software without restriction, including without limitation the rights to use, copy, modify, merge, publish, distribute, sublicense, and/or sell copies of the Software, and to permit persons to whom the Software is furnished to do so, subject to the following conditions:\n",
    "\n",
    "The above copyright notice and this permission notice shall be included in all copies or substantial portions of the Software.\n",
    "\n",
    "THE SOFTWARE IS PROVIDED \"AS IS\", WITHOUT WARRANTY OF ANY KIND, EXPRESS OR IMPLIED, INCLUDING BUT NOT LIMITED TO THE WARRANTIES OF MERCHANTABILITY, FITNESS FOR A PARTICULAR PURPOSE AND NONINFRINGEMENT. IN NO EVENT SHALL THE AUTHORS OR COPYRIGHT HOLDERS BE LIABLE FOR ANY CLAIM, DAMAGES OR OTHER LIABILITY, WHETHER IN AN ACTION OF CONTRACT, TORT OR OTHERWISE, ARISING FROM, OUT OF OR IN CONNECTION WITH THE SOFTWARE OR THE USE OR OTHER DEALINGS IN THE SOFTWARE."
   ]
  },
  {
   "cell_type": "code",
   "execution_count": null,
   "metadata": {},
   "outputs": [],
   "source": []
  }
 ],
 "metadata": {
  "colab": {
   "collapsed_sections": [],
   "name": "Fama_French_Test.ipynb",
   "provenance": []
  },
  "kernelspec": {
   "display_name": "Python 3",
   "language": "python",
   "name": "python3"
  },
  "language_info": {
   "codemirror_mode": {
    "name": "ipython",
    "version": 3
   },
   "file_extension": ".py",
   "mimetype": "text/x-python",
   "name": "python",
   "nbconvert_exporter": "python",
   "pygments_lexer": "ipython3",
   "version": "3.7.3"
  }
 },
 "nbformat": 4,
 "nbformat_minor": 4
}
