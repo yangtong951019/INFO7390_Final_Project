{
 "cells": [
  {
   "cell_type": "code",
   "execution_count": 4,
   "metadata": {
    "colab": {},
    "colab_type": "code",
    "id": "dia4UW44BzvV"
   },
   "outputs": [],
   "source": [
    "import matplotlib.pyplot as plt\n",
    "import numpy as np\n",
    "import pandas as pd\n",
    "from scipy import stats\n",
    "import seaborn as sns\n",
    "import scipy.stats as ss\n",
    "from pandas_datareader import DataReader\n",
    "from datetime import datetime\n",
    "\n",
    "# Make plots larger\n",
    "plt.rcParams['figure.figsize'] = (15, 9)"
   ]
  },
  {
   "cell_type": "code",
   "execution_count": 6,
   "metadata": {
    "colab": {},
    "colab_type": "code",
    "id": "rGrjPtICBzve"
   },
   "outputs": [],
   "source": [
    "facebook = DataReader('FB',  'yahoo', datetime(2016,4,1), datetime(2019,9,1));\n",
    "facebook.reset_index(inplace=True,drop=False)\n",
    "facebook.set_index('Date')\n",
    "facebook['CloseYest'] = facebook['Close'].shift(-1)\n",
    "facebook['OpenTmr'] = facebook['Open'].shift(-1)\n",
    "facebook['Close2dayBefore'] = facebook['Close'].shift(-2)\n",
    "facebook.head()\n",
    "facebook = facebook.dropna(0)"
   ]
  },
  {
   "cell_type": "code",
   "execution_count": 7,
   "metadata": {
    "colab": {
     "base_uri": "https://localhost:8080/",
     "height": 204
    },
    "colab_type": "code",
    "id": "_R9gWIzDBzvj",
    "outputId": "4bdd8d69-7da7-4291-9059-aeef8632feaf"
   },
   "outputs": [
    {
     "data": {
      "text/html": [
       "<div>\n",
       "<style scoped>\n",
       "    .dataframe tbody tr th:only-of-type {\n",
       "        vertical-align: middle;\n",
       "    }\n",
       "\n",
       "    .dataframe tbody tr th {\n",
       "        vertical-align: top;\n",
       "    }\n",
       "\n",
       "    .dataframe thead th {\n",
       "        text-align: right;\n",
       "    }\n",
       "</style>\n",
       "<table border=\"1\" class=\"dataframe\">\n",
       "  <thead>\n",
       "    <tr style=\"text-align: right;\">\n",
       "      <th></th>\n",
       "      <th>Date</th>\n",
       "      <th>High</th>\n",
       "      <th>Low</th>\n",
       "      <th>Open</th>\n",
       "      <th>Close</th>\n",
       "      <th>Volume</th>\n",
       "      <th>Adj Close</th>\n",
       "      <th>CloseYest</th>\n",
       "      <th>OpenTmr</th>\n",
       "      <th>Close2dayBefore</th>\n",
       "    </tr>\n",
       "  </thead>\n",
       "  <tbody>\n",
       "    <tr>\n",
       "      <th>854</th>\n",
       "      <td>2019-08-22</td>\n",
       "      <td>184.110001</td>\n",
       "      <td>179.910004</td>\n",
       "      <td>183.429993</td>\n",
       "      <td>182.039993</td>\n",
       "      <td>10821400</td>\n",
       "      <td>182.039993</td>\n",
       "      <td>177.750000</td>\n",
       "      <td>180.839996</td>\n",
       "      <td>180.360001</td>\n",
       "    </tr>\n",
       "    <tr>\n",
       "      <th>855</th>\n",
       "      <td>2019-08-23</td>\n",
       "      <td>183.130005</td>\n",
       "      <td>176.660004</td>\n",
       "      <td>180.839996</td>\n",
       "      <td>177.750000</td>\n",
       "      <td>17323400</td>\n",
       "      <td>177.750000</td>\n",
       "      <td>180.360001</td>\n",
       "      <td>179.399994</td>\n",
       "      <td>181.300003</td>\n",
       "    </tr>\n",
       "    <tr>\n",
       "      <th>856</th>\n",
       "      <td>2019-08-26</td>\n",
       "      <td>180.500000</td>\n",
       "      <td>178.240005</td>\n",
       "      <td>179.399994</td>\n",
       "      <td>180.360001</td>\n",
       "      <td>8773600</td>\n",
       "      <td>180.360001</td>\n",
       "      <td>181.300003</td>\n",
       "      <td>181.929993</td>\n",
       "      <td>181.759995</td>\n",
       "    </tr>\n",
       "    <tr>\n",
       "      <th>857</th>\n",
       "      <td>2019-08-27</td>\n",
       "      <td>184.039993</td>\n",
       "      <td>181.009995</td>\n",
       "      <td>181.929993</td>\n",
       "      <td>181.300003</td>\n",
       "      <td>14399600</td>\n",
       "      <td>181.300003</td>\n",
       "      <td>181.759995</td>\n",
       "      <td>180.529999</td>\n",
       "      <td>185.570007</td>\n",
       "    </tr>\n",
       "    <tr>\n",
       "      <th>858</th>\n",
       "      <td>2019-08-28</td>\n",
       "      <td>181.949997</td>\n",
       "      <td>178.919998</td>\n",
       "      <td>180.529999</td>\n",
       "      <td>181.759995</td>\n",
       "      <td>9386100</td>\n",
       "      <td>181.759995</td>\n",
       "      <td>185.570007</td>\n",
       "      <td>183.770004</td>\n",
       "      <td>185.669998</td>\n",
       "    </tr>\n",
       "  </tbody>\n",
       "</table>\n",
       "</div>"
      ],
      "text/plain": [
       "          Date        High         Low  ...   CloseYest     OpenTmr  Close2dayBefore\n",
       "854 2019-08-22  184.110001  179.910004  ...  177.750000  180.839996       180.360001\n",
       "855 2019-08-23  183.130005  176.660004  ...  180.360001  179.399994       181.300003\n",
       "856 2019-08-26  180.500000  178.240005  ...  181.300003  181.929993       181.759995\n",
       "857 2019-08-27  184.039993  181.009995  ...  181.759995  180.529999       185.570007\n",
       "858 2019-08-28  181.949997  178.919998  ...  185.570007  183.770004       185.669998\n",
       "\n",
       "[5 rows x 10 columns]"
      ]
     },
     "execution_count": 7,
     "metadata": {
      "tags": []
     },
     "output_type": "execute_result"
    }
   ],
   "source": [
    "facebook.tail()"
   ]
  },
  {
   "cell_type": "code",
   "execution_count": 8,
   "metadata": {
    "colab": {},
    "colab_type": "code",
    "id": "nO7zLL2IBzvx"
   },
   "outputs": [],
   "source": [
    "def AR_bootstrap():\n",
    "    N = facebook.shape[0] # total num days\n",
    "    num_boot = 1# total num bootstrap\n",
    "    T= 250 # start day\n",
    "    window = 200 # training period window\n",
    "    Y =facebook['OpenTmr'][-(N-(T+1)):].values\n",
    "    X = facebook[['Close','CloseYest','Close2dayBefore']][-(N-(T+1)):].values\n",
    "    T = X.shape[0]\n",
    "#     print('T is: ')\n",
    "#     print(T)\n",
    "    X = np.column_stack([np.ones((T,1)),X])\n",
    "    N = X.shape\n",
    "    invXX = np.linalg.inv(X.transpose()@X)\n",
    "    \n",
    "    beta_hat = invXX@X.transpose()@Y\n",
    "    #print(beta_hat.shape)\n",
    "    y_hat = X@beta_hat+beta_hat[0]\n",
    "    \n",
    "    'Residuals from OLS'\n",
    "    residuals = Y - y_hat\n",
    "    'Variance of Residuals'\n",
    "    sigma2 = (1/T)*residuals.transpose()@residuals\n",
    "    'standard deviation of Y or residuals'\n",
    "    sigma = np.sqrt(sigma2)\n",
    "    'variance-covariance matrix of beta_hat'\n",
    "    varcov_beta_hat = (sigma2)*invXX\n",
    "    std_beta_hat = np.sqrt(T*np.diag(varcov_beta_hat))\n",
    "\n",
    "    'Calculate R-square'\n",
    "    R_square = 1 - (residuals.transpose()@residuals)/(T*np.var(Y))\n",
    "    adj_R_square = 1-(1-R_square)*(T-1)/(T-N[1])\n",
    "\n",
    "    'Test Each Coefficient: beta_i'\n",
    "    'Null Hypothesis: beta_i = 0'\n",
    "    t_stat = (beta_hat.transpose()-0)/std_beta_hat\n",
    "\n",
    "    p_val = 1-ss.norm.cdf(t_stat)\n",
    "    rmse_ar1 = np.sqrt(np.mean((Y- y_hat)**2))\n",
    "    return y_hat,rmse_ar1\n"
   ]
  },
  {
   "cell_type": "code",
   "execution_count": null,
   "metadata": {
    "colab": {},
    "colab_type": "code",
    "id": "76Zy5_VtBzv1"
   },
   "outputs": [],
   "source": [
    "# def AR_bootstrap1(X,Y):\n",
    "#     T = 250\n",
    "#     num_boost=5\n",
    "#     #print(T)\n",
    "#     N = X.shape[0]\n",
    "#     #print(N)\n",
    "    \n",
    "#     yhat_ema = np.zeros(N-(T+1))\n",
    "#     window = 200\n",
    "#     num_boost = 300 # increase\n",
    "    \n",
    "#     for t in range(T+1,N-2):\n",
    "#         X_train = X[t-window:t-1]\n",
    "#         #X_train = np.column_stack([np.ones((len(X_train),1)),X_train])\n",
    "#         Y_train = Y[t-window:t-1]\n",
    "#         #print(X_train.shape)\n",
    "#         #print(Y_train.shape)\n",
    "#         X_pred = X[t-1:t]\n",
    "#         X_pred = np.column_stack([np.ones((len(X_pred),1)),X_pred])\n",
    "        \n",
    "#         yhat_train = AR_bootstrap(X_train , Y_train)[1]\n",
    "#         res_train = Y_train - yhat_train\n",
    "       \n",
    "#         y_pred_all = np.zeros(num_boost)\n",
    "       \n",
    "#         for i in range (0,num_boost):\n",
    "#             #err = np.random.choice(res_train,(window-1, ),replace = True)\n",
    "#             err = res_train\n",
    "#             y_bstr = yhat_train + err\n",
    "#             beta_bstr = AR_bootstrap(X_train,y_bstr)[0]\n",
    "#             #print(X_pred.shape)\n",
    "#             #print(beta_bstr.shape)\n",
    " \n",
    "#             y_pred_bstr = X_pred@beta_bstr\n",
    "#             y_pred_all[i] = y_pred_bstr\n",
    "           \n",
    "#         y_pred_ema = y_pred_all.mean()\n",
    "#         yhat_ema[t-(T+1)] = y_pred_ema\n",
    "   \n",
    "#     #rmse_ema = np.sqrt(np.mean((Y[:-1] - yhat_ema[:-1])**2))\n",
    "   \n",
    "#     return yhat_train#,rmse_ema"
   ]
  },
  {
   "cell_type": "code",
   "execution_count": 9,
   "metadata": {
    "colab": {
     "base_uri": "https://localhost:8080/",
     "height": 34
    },
    "colab_type": "code",
    "id": "wvx7KnxzBzv7",
    "outputId": "50efa062-8891-4c07-af07-b184c183ba14"
   },
   "outputs": [
    {
     "name": "stdout",
     "output_type": "stream",
     "text": [
      "1.9076290240331346\n"
     ]
    }
   ],
   "source": [
    "y,rmse=AR_bootstrap()\n",
    "print(rmse)"
   ]
  },
  {
   "cell_type": "markdown",
   "metadata": {
    "colab": {},
    "colab_type": "code",
    "id": "zV3ov5XuBzwB"
   },
   "source": [
    "## Professionalism\n",
    "50% Minghao Ru\n",
    "\n",
    "50% Tong Yang\n",
    "\n",
    "\n",
    "## Licensing\n",
    "Copyright <2020> Minghao Ru, Tong Yang\n",
    "\n",
    "Permission is hereby granted, free of charge, to any person obtaining a copy of this software and associated documentation files (the \"Software\"), to deal in the Software without restriction, including without limitation the rights to use, copy, modify, merge, publish, distribute, sublicense, and/or sell copies of the Software, and to permit persons to whom the Software is furnished to do so, subject to the following conditions:\n",
    "\n",
    "The above copyright notice and this permission notice shall be included in all copies or substantial portions of the Software.\n",
    "\n",
    "THE SOFTWARE IS PROVIDED \"AS IS\", WITHOUT WARRANTY OF ANY KIND, EXPRESS OR IMPLIED, INCLUDING BUT NOT LIMITED TO THE WARRANTIES OF MERCHANTABILITY, FITNESS FOR A PARTICULAR PURPOSE AND NONINFRINGEMENT. IN NO EVENT SHALL THE AUTHORS OR COPYRIGHT HOLDERS BE LIABLE FOR ANY CLAIM, DAMAGES OR OTHER LIABILITY, WHETHER IN AN ACTION OF CONTRACT, TORT OR OTHERWISE, ARISING FROM, OUT OF OR IN CONNECTION WITH THE SOFTWARE OR THE USE OR OTHER DEALINGS IN THE SOFTWARE."
   ]
  },
  {
   "cell_type": "code",
   "execution_count": null,
   "metadata": {},
   "outputs": [],
   "source": []
  }
 ],
 "metadata": {
  "colab": {
   "name": "FB4_Autoregression_Bootstrap.ipynb",
   "provenance": []
  },
  "kernelspec": {
   "display_name": "Python 3",
   "language": "python",
   "name": "python3"
  },
  "language_info": {
   "codemirror_mode": {
    "name": "ipython",
    "version": 3
   },
   "file_extension": ".py",
   "mimetype": "text/x-python",
   "name": "python",
   "nbconvert_exporter": "python",
   "pygments_lexer": "ipython3",
   "version": "3.7.3"
  }
 },
 "nbformat": 4,
 "nbformat_minor": 4
}
