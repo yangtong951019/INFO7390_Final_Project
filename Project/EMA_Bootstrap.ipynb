{
 "cells": [
  {
   "cell_type": "code",
   "execution_count": 17,
   "metadata": {
    "colab": {},
    "colab_type": "code",
    "id": "iavBaDzRoly6"
   },
   "outputs": [],
   "source": [
    "import matplotlib.pyplot as plt\n",
    "import numpy as np\n",
    "import pandas as pd\n",
    "from scipy import stats\n",
    "import seaborn as sns\n",
    "import scipy.stats as ss\n",
    "from pandas_datareader import DataReader\n",
    "from datetime import datetime\n",
    "\n",
    "# Make plots larger\n",
    "plt.rcParams['figure.figsize'] = (15, 9)"
   ]
  },
  {
   "cell_type": "code",
   "execution_count": 18,
   "metadata": {
    "colab": {
     "base_uri": "https://localhost:8080/",
     "height": 204
    },
    "colab_type": "code",
    "id": "Ep2DSUNzoly-",
    "outputId": "c66b9fe1-6d1a-4b89-d111-00309e7b0e14"
   },
   "outputs": [
    {
     "data": {
      "text/html": [
       "<div>\n",
       "<style scoped>\n",
       "    .dataframe tbody tr th:only-of-type {\n",
       "        vertical-align: middle;\n",
       "    }\n",
       "\n",
       "    .dataframe tbody tr th {\n",
       "        vertical-align: top;\n",
       "    }\n",
       "\n",
       "    .dataframe thead th {\n",
       "        text-align: right;\n",
       "    }\n",
       "</style>\n",
       "<table border=\"1\" class=\"dataframe\">\n",
       "  <thead>\n",
       "    <tr style=\"text-align: right;\">\n",
       "      <th></th>\n",
       "      <th>Date</th>\n",
       "      <th>High</th>\n",
       "      <th>Low</th>\n",
       "      <th>Open</th>\n",
       "      <th>Close</th>\n",
       "      <th>Volume</th>\n",
       "      <th>Adj Close</th>\n",
       "      <th>OpenTmr</th>\n",
       "      <th>OpenClose</th>\n",
       "      <th>HighLow</th>\n",
       "      <th>OCHL</th>\n",
       "    </tr>\n",
       "  </thead>\n",
       "  <tbody>\n",
       "    <tr>\n",
       "      <th>0</th>\n",
       "      <td>2016-04-01</td>\n",
       "      <td>116.169998</td>\n",
       "      <td>113.349998</td>\n",
       "      <td>113.750000</td>\n",
       "      <td>116.059998</td>\n",
       "      <td>24760500</td>\n",
       "      <td>116.059998</td>\n",
       "      <td>114.070000</td>\n",
       "      <td>114.904999</td>\n",
       "      <td>114.759998</td>\n",
       "      <td>114.832499</td>\n",
       "    </tr>\n",
       "    <tr>\n",
       "      <th>1</th>\n",
       "      <td>2016-04-04</td>\n",
       "      <td>114.550003</td>\n",
       "      <td>111.610001</td>\n",
       "      <td>114.070000</td>\n",
       "      <td>112.550003</td>\n",
       "      <td>48487900</td>\n",
       "      <td>112.550003</td>\n",
       "      <td>112.110001</td>\n",
       "      <td>113.310001</td>\n",
       "      <td>113.080002</td>\n",
       "      <td>113.195002</td>\n",
       "    </tr>\n",
       "    <tr>\n",
       "      <th>2</th>\n",
       "      <td>2016-04-05</td>\n",
       "      <td>113.320000</td>\n",
       "      <td>111.900002</td>\n",
       "      <td>112.110001</td>\n",
       "      <td>112.220001</td>\n",
       "      <td>22962400</td>\n",
       "      <td>112.220001</td>\n",
       "      <td>112.470001</td>\n",
       "      <td>112.165001</td>\n",
       "      <td>112.610001</td>\n",
       "      <td>112.387501</td>\n",
       "    </tr>\n",
       "    <tr>\n",
       "      <th>3</th>\n",
       "      <td>2016-04-06</td>\n",
       "      <td>113.809998</td>\n",
       "      <td>112.419998</td>\n",
       "      <td>112.470001</td>\n",
       "      <td>113.709999</td>\n",
       "      <td>20814600</td>\n",
       "      <td>113.709999</td>\n",
       "      <td>113.790001</td>\n",
       "      <td>113.090000</td>\n",
       "      <td>113.114998</td>\n",
       "      <td>113.102499</td>\n",
       "    </tr>\n",
       "    <tr>\n",
       "      <th>4</th>\n",
       "      <td>2016-04-07</td>\n",
       "      <td>114.889999</td>\n",
       "      <td>113.070000</td>\n",
       "      <td>113.790001</td>\n",
       "      <td>113.639999</td>\n",
       "      <td>20714500</td>\n",
       "      <td>113.639999</td>\n",
       "      <td>114.250000</td>\n",
       "      <td>113.715000</td>\n",
       "      <td>113.980000</td>\n",
       "      <td>113.847500</td>\n",
       "    </tr>\n",
       "  </tbody>\n",
       "</table>\n",
       "</div>"
      ],
      "text/plain": [
       "        Date        High         Low  ...   OpenClose     HighLow        OCHL\n",
       "0 2016-04-01  116.169998  113.349998  ...  114.904999  114.759998  114.832499\n",
       "1 2016-04-04  114.550003  111.610001  ...  113.310001  113.080002  113.195002\n",
       "2 2016-04-05  113.320000  111.900002  ...  112.165001  112.610001  112.387501\n",
       "3 2016-04-06  113.809998  112.419998  ...  113.090000  113.114998  113.102499\n",
       "4 2016-04-07  114.889999  113.070000  ...  113.715000  113.980000  113.847500\n",
       "\n",
       "[5 rows x 11 columns]"
      ]
     },
     "execution_count": 18,
     "metadata": {
      "tags": []
     },
     "output_type": "execute_result"
    }
   ],
   "source": [
    "facebook = DataReader('FB',  'yahoo', datetime(2016,4,1), datetime(2019,9,1));\n",
    "facebook.reset_index(inplace=True,drop=False)\n",
    "facebook.set_index('Date')\n",
    "facebook['OpenTmr'] = facebook['Open'].shift(-1)\n",
    "facebook['OpenClose']= (facebook['Open']+ facebook['Close'])/2\n",
    "facebook['HighLow'] = (facebook['High']+ facebook['Low'])/2\n",
    "facebook['OCHL'] = (facebook['Open']+ facebook['Close']+facebook['High']+ facebook['Low'])/4\n",
    "facebook.head()"
   ]
  },
  {
   "cell_type": "code",
   "execution_count": 19,
   "metadata": {
    "colab": {},
    "colab_type": "code",
    "id": "cgr0ERDJolzL"
   },
   "outputs": [],
   "source": [
    "N = facebook.shape[0] # total num days\n",
    "num_boot = 300# total num bootstrap\n",
    "T= 250 # start day\n",
    "window = 200 # training period window"
   ]
  },
  {
   "cell_type": "code",
   "execution_count": 20,
   "metadata": {
    "colab": {
     "base_uri": "https://localhost:8080/",
     "height": 51
    },
    "colab_type": "code",
    "id": "X0vb2eQjolzP",
    "outputId": "2e0a28c0-bb95-4431-fd99-715b6bf2fbc5"
   },
   "outputs": [
    {
     "name": "stdout",
     "output_type": "stream",
     "text": [
      "(861,)\n",
      "(610,)\n"
     ]
    }
   ],
   "source": [
    "df = facebook[['Close']]\n",
    "df.reset_index(level=0, inplace=True)\n",
    "df.columns=['ds','y']\n",
    "\n",
    "X = df.y.ewm(span=5, adjust=False).mean()\n",
    "Y =facebook['OpenTmr'][-(N-(T+1)):].values\n",
    "#X = np.column_stack([np.ones((T,1)),X])\n",
    "print(X.shape)\n",
    "print(Y.shape)\n",
    "#movAverage1= (movAvg) "
   ]
  },
  {
   "cell_type": "code",
   "execution_count": 21,
   "metadata": {
    "colab": {},
    "colab_type": "code",
    "id": "zljhaIU1olzU"
   },
   "outputs": [],
   "source": [
    "def EMA(X, Y):\n",
    "    \n",
    "    T = X.shape[0]\n",
    "    #print(T)\n",
    "    #mu = (facebook['Open '].mean(),facebook['Open '].mean(),facebook['Open '].mean()) \n",
    "    #cov = [[1,0.75,-0.35],[0.75,1,0.9],[-0.35,0.9,1]]\n",
    "    #F = np.random.multivariate_normal(mu,cov,T)\n",
    "    #Sample for Y,X\n",
    "    X = np.column_stack([np.ones((T,1)),X])\n",
    "    #T = X.shape[0]\n",
    "    N = X.shape\n",
    "    #beta = np.array([0.56,2.53,2.05,1.78])\n",
    "    #beta.shape=(N[1],1)\n",
    "    #Y =X@beta+np.random.normal(0,1,(T,1))\n",
    "    #Y=facebook['Open '].values\n",
    "    #print(T)\n",
    "    invXX = np.linalg.inv(X.transpose()@X)\n",
    "    beta_hat = invXX@X.transpose()@Y\n",
    "    y_hat = X@beta_hat\n",
    "    residuals = Y-y_hat\n",
    "    sigma2 = (1/T)*residuals.transpose()@residuals\n",
    "\n",
    "    sigma = np.sqrt(sigma2)\n",
    "\n",
    "    #variance - covariance of beta_hat\n",
    "    varcov_beta_hat = (sigma2)*invXX\n",
    "    std_beta_hat = np.sqrt(T*np.diag(varcov_beta_hat))\n",
    "\n",
    "    R_square = 1-(residuals.transpose()@residuals)/(T*np.var(Y))\n",
    "\n",
    "    adj_R_square = 1-(1-R_square)*(T-1)/(T - N[1])\n",
    "\n",
    "    #Testing Coefficents:beta_i\n",
    "    #Null Hypotesis\n",
    "\n",
    "    t_stat = (beta_hat.transpose()-0)/std_beta_hat\n",
    "    p_val = 1-ss.norm.cdf(t_stat)\n",
    "\n",
    "    #Test of joint significance\n",
    "    F_stat= (beta_hat.transpose()@np.linalg.inv(varcov_beta_hat)@beta_hat/N[1])/(residuals.transpose()@residuals/(T-N[1]))\n",
    "    p_val_F= 1 - ss.f.cdf(F_stat,N[1]-1, T-N[1])\n",
    "    \n",
    "    return beta_hat,y_hat\n"
   ]
  },
  {
   "cell_type": "code",
   "execution_count": 22,
   "metadata": {
    "colab": {},
    "colab_type": "code",
    "id": "qBtRPZQEolzW"
   },
   "outputs": [],
   "source": [
    "def ema_bootstrap():\n",
    "    T = 250\n",
    "    #print(T)\n",
    "    N = X.shape[0]\n",
    "    #print(N)\n",
    "    \n",
    "    yhat_ema = np.zeros(N-(T+1))\n",
    "    window = 200\n",
    "    num_boost = 300 # increase\n",
    "    \n",
    "    for t in range(T+1,N):\n",
    "        X_train = df.y.ewm(span=5, adjust=False).mean()[t-window:t-1]\n",
    "        #X_train = np.column_stack([np.ones((len(X_train),1)),X_train])\n",
    "        Y_train = facebook[['OpenTmr']][t-window:t-1].values\n",
    "        #print(X_train.shape)\n",
    "        #print(Y_train.shape)\n",
    "        X_pred = df.y.ewm(span=5, adjust=False).mean()[t-1:t]\n",
    "        X_pred = np.column_stack([np.ones((len(X_pred),1)),X_pred])\n",
    "        \n",
    "        yhat_train = EMA(X_train , Y_train)[1]\n",
    "        res_train = Y_train - yhat_train\n",
    "       \n",
    "        y_pred_all = np.zeros(num_boost)\n",
    "       \n",
    "        for i in range (0,num_boost):\n",
    "            #err = np.random.choice(res_train,(window-1, ),replace = True)\n",
    "            err = res_train\n",
    "            y_bstr = yhat_train + err\n",
    "            beta_bstr = EMA(X_train,y_bstr)[0]\n",
    "            #print(X_pred.shape)\n",
    "            #print(beta_bstr.shape)\n",
    " \n",
    "            y_pred_bstr = X_pred@beta_bstr\n",
    "            y_pred_all[i] = y_pred_bstr\n",
    "           \n",
    "        y_pred_ema = y_pred_all.mean()\n",
    "       \n",
    "        yhat_ema[t-(T+1)] = y_pred_ema\n",
    "   \n",
    "   \n",
    "    rmse_ema = np.sqrt(np.mean((Y[:-1] - yhat_ema[:-1])**2))\n",
    "   \n",
    "    return yhat_ema,rmse_ema"
   ]
  },
  {
   "cell_type": "code",
   "execution_count": 23,
   "metadata": {
    "colab": {
     "base_uri": "https://localhost:8080/",
     "height": 34
    },
    "colab_type": "code",
    "id": "QTc-HO_iolzY",
    "outputId": "0156cb69-8bf7-4adb-f921-7d3a62ed9680"
   },
   "outputs": [
    {
     "data": {
      "text/plain": [
       "5.050240539306411"
      ]
     },
     "execution_count": 23,
     "metadata": {
      "tags": []
     },
     "output_type": "execute_result"
    }
   ],
   "source": [
    "rmse = ema_bootstrap()[1]\n",
    "rmse"
   ]
  },
  {
   "cell_type": "markdown",
   "metadata": {},
   "source": [
    "## Professionalism\n",
    "50% Minghao Ru\n",
    "\n",
    "50% Tong Yang\n",
    "\n",
    "\n",
    "## Licensing\n",
    "Copyright <2020> Minghao Ru, Tong Yang\n",
    "\n",
    "Permission is hereby granted, free of charge, to any person obtaining a copy of this software and associated documentation files (the \"Software\"), to deal in the Software without restriction, including without limitation the rights to use, copy, modify, merge, publish, distribute, sublicense, and/or sell copies of the Software, and to permit persons to whom the Software is furnished to do so, subject to the following conditions:\n",
    "\n",
    "The above copyright notice and this permission notice shall be included in all copies or substantial portions of the Software.\n",
    "\n",
    "THE SOFTWARE IS PROVIDED \"AS IS\", WITHOUT WARRANTY OF ANY KIND, EXPRESS OR IMPLIED, INCLUDING BUT NOT LIMITED TO THE WARRANTIES OF MERCHANTABILITY, FITNESS FOR A PARTICULAR PURPOSE AND NONINFRINGEMENT. IN NO EVENT SHALL THE AUTHORS OR COPYRIGHT HOLDERS BE LIABLE FOR ANY CLAIM, DAMAGES OR OTHER LIABILITY, WHETHER IN AN ACTION OF CONTRACT, TORT OR OTHERWISE, ARISING FROM, OUT OF OR IN CONNECTION WITH THE SOFTWARE OR THE USE OR OTHER DEALINGS IN THE SOFTWARE."
   ]
  },
  {
   "cell_type": "code",
   "execution_count": null,
   "metadata": {},
   "outputs": [],
   "source": []
  }
 ],
 "metadata": {
  "colab": {
   "name": "FB1_EMA_Bootstrap.ipynb",
   "provenance": []
  },
  "kernelspec": {
   "display_name": "Python 3",
   "language": "python",
   "name": "python3"
  },
  "language_info": {
   "codemirror_mode": {
    "name": "ipython",
    "version": 3
   },
   "file_extension": ".py",
   "mimetype": "text/x-python",
   "name": "python",
   "nbconvert_exporter": "python",
   "pygments_lexer": "ipython3",
   "version": "3.7.3"
  }
 },
 "nbformat": 4,
 "nbformat_minor": 4
}
