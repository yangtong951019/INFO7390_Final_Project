{
 "cells": [
  {
   "cell_type": "code",
   "execution_count": 2,
   "metadata": {},
   "outputs": [],
   "source": [
    "from pandas_datareader import DataReader\n",
    "from datetime import datetime\n",
    "import numpy as np"
   ]
  },
  {
   "cell_type": "code",
   "execution_count": 3,
   "metadata": {},
   "outputs": [],
   "source": [
    "FB = DataReader('FB',  'yahoo', datetime(2019,1,1), datetime(2019,12,31));"
   ]
  },
  {
   "cell_type": "markdown",
   "metadata": {},
   "source": [
    "### LINEAR REGRESSION"
   ]
  },
  {
   "cell_type": "code",
   "execution_count": 3,
   "metadata": {},
   "outputs": [
    {
     "name": "stdout",
     "output_type": "stream",
     "text": [
      "-1.614854227800323e-18\n"
     ]
    }
   ],
   "source": [
    "from sklearn.model_selection import cross_val_score\n",
    "from sklearn.linear_model import LinearRegression\n",
    "\n",
    "X = FB.drop(['Close'],axis=1)\n",
    "Y = FB['Close'].values.reshape(-1,1)\n",
    "\n",
    "lin_reg = LinearRegression()\n",
    "\n",
    "MSEs = cross_val_score(lin_reg, X, Y, scoring = 'neg_mean_squared_error', cv = 5)\n",
    "mean_MSE = np.mean(MSEs)\n",
    "\n",
    "print(mean_MSE)"
   ]
  },
  {
   "cell_type": "code",
   "execution_count": 4,
   "metadata": {},
   "outputs": [
    {
     "name": "stdout",
     "output_type": "stream",
     "text": [
      "                            OLS Regression Results                            \n",
      "==============================================================================\n",
      "Dep. Variable:                  Close   R-squared:                       1.000\n",
      "Model:                            OLS   Adj. R-squared:                  1.000\n",
      "Method:                 Least Squares   F-statistic:                 4.895e+22\n",
      "Date:                Sat, 13 Jun 2020   Prob (F-statistic):               0.00\n",
      "Time:                        13:11:37   Log-Likelihood:                 4422.0\n",
      "No. Observations:                 252   AIC:                            -8834.\n",
      "Df Residuals:                     247   BIC:                            -8816.\n",
      "Df Model:                           5                                         \n",
      "Covariance Type:            nonrobust                                         \n",
      "==============================================================================\n",
      "                 coef    std err          t      P>|t|      [0.025      0.975]\n",
      "------------------------------------------------------------------------------\n",
      "x1          3.553e-15   3.98e-10   8.94e-06      1.000   -7.83e-10    7.83e-10\n",
      "x2          7.105e-15   3.97e-10   1.79e-05      1.000   -7.82e-10    7.82e-10\n",
      "x3         -5.329e-15   3.15e-10  -1.69e-05      1.000    -6.2e-10     6.2e-10\n",
      "x4             0.5000   1.76e-10   2.84e+09      0.000       0.500       0.500\n",
      "x5         -3.164e-16   5.26e-17     -6.021      0.000    -4.2e-16   -2.13e-16\n",
      "x6             0.5000   1.76e-10   2.84e+09      0.000       0.500       0.500\n",
      "==============================================================================\n",
      "Omnibus:                      192.854   Durbin-Watson:                   0.190\n",
      "Prob(Omnibus):                  0.000   Jarque-Bera (JB):             2331.380\n",
      "Skew:                           3.024   Prob(JB):                         0.00\n",
      "Kurtosis:                      16.618   Cond. No.                     3.07e+22\n",
      "==============================================================================\n",
      "\n",
      "Warnings:\n",
      "[1] Standard Errors assume that the covariance matrix of the errors is correctly specified.\n",
      "[2] The smallest eigenvalue is 8.94e-29. This might indicate that there are\n",
      "strong multicollinearity problems or that the design matrix is singular.\n"
     ]
    }
   ],
   "source": [
    "import statsmodels.api as sm\n",
    "mod = sm.regression.linear_model.OLS(FB['Close'], FB.select_dtypes(include=['float64','int64']).values)\n",
    "res = mod.fit()\n",
    "print(res.summary())"
   ]
  },
  {
   "cell_type": "markdown",
   "metadata": {},
   "source": [
    "### RIDGE REGRESSION"
   ]
  },
  {
   "cell_type": "code",
   "execution_count": 5,
   "metadata": {},
   "outputs": [
    {
     "data": {
      "text/plain": [
       "GridSearchCV(cv=5, error_score='raise-deprecating',\n",
       "             estimator=Ridge(alpha=1.0, copy_X=True, fit_intercept=True,\n",
       "                             max_iter=None, normalize=False, random_state=None,\n",
       "                             solver='auto', tol=0.001),\n",
       "             iid='warn', n_jobs=None,\n",
       "             param_grid={'alpha': [1e-15, 1e-10, 1e-08, 0.0001, 0.001, 0.01, 1,\n",
       "                                   5, 10, 20]},\n",
       "             pre_dispatch='2*n_jobs', refit=True, return_train_score=False,\n",
       "             scoring='neg_mean_squared_error', verbose=0)"
      ]
     },
     "execution_count": 5,
     "metadata": {},
     "output_type": "execute_result"
    }
   ],
   "source": [
    "from sklearn.model_selection import GridSearchCV\n",
    "from sklearn.linear_model import Ridge\n",
    "\n",
    "ridge = Ridge()\n",
    "\n",
    "parameters = {'alpha': [1e-15,1e-10,1e-8,1e-4,1e-3,1e-2,1,5,10,20]}\n",
    "\n",
    "ridgeregressor = GridSearchCV(ridge, parameters, scoring = 'neg_mean_squared_error', cv=5)\n",
    "\n",
    "ridgeregressor.fit(X,Y)"
   ]
  },
  {
   "cell_type": "code",
   "execution_count": 6,
   "metadata": {},
   "outputs": [
    {
     "name": "stdout",
     "output_type": "stream",
     "text": [
      "Best Parameter : {'alpha': 1e-15}\n",
      "Best Estimator : Ridge(alpha=1e-15, copy_X=True, fit_intercept=True, max_iter=None,\n",
      "      normalize=False, random_state=None, solver='auto', tol=0.001)\n",
      "Best Score : -7.494849757449134e-26\n"
     ]
    }
   ],
   "source": [
    "print(\"Best Parameter :\",ridgeregressor.best_params_)\n",
    "print(\"Best Estimator :\",ridgeregressor.best_estimator_)\n",
    "print(\"Best Score :\",ridgeregressor.best_score_)"
   ]
  },
  {
   "cell_type": "markdown",
   "metadata": {},
   "source": [
    "### LASSO REGRESSION"
   ]
  },
  {
   "cell_type": "code",
   "execution_count": 7,
   "metadata": {},
   "outputs": [
    {
     "name": "stderr",
     "output_type": "stream",
     "text": [
      "C:\\Users\\avala\\Anaconda3\\lib\\site-packages\\sklearn\\linear_model\\coordinate_descent.py:475: ConvergenceWarning: Objective did not converge. You might want to increase the number of iterations. Duality gap: 199.01797313350735, tolerance: 5.987458301962521\n",
      "  positive)\n",
      "C:\\Users\\avala\\Anaconda3\\lib\\site-packages\\sklearn\\linear_model\\coordinate_descent.py:475: ConvergenceWarning: Objective did not converge. You might want to increase the number of iterations. Duality gap: 201.37968463803685, tolerance: 5.441099730250855\n",
      "  positive)\n",
      "C:\\Users\\avala\\Anaconda3\\lib\\site-packages\\sklearn\\linear_model\\coordinate_descent.py:475: ConvergenceWarning: Objective did not converge. You might want to increase the number of iterations. Duality gap: 201.1162527987211, tolerance: 6.3441582435512895\n",
      "  positive)\n",
      "C:\\Users\\avala\\Anaconda3\\lib\\site-packages\\sklearn\\linear_model\\coordinate_descent.py:475: ConvergenceWarning: Objective did not converge. You might want to increase the number of iterations. Duality gap: 199.16202275241284, tolerance: 4.816711063191518\n",
      "  positive)\n",
      "C:\\Users\\avala\\Anaconda3\\lib\\site-packages\\sklearn\\linear_model\\coordinate_descent.py:475: ConvergenceWarning: Objective did not converge. You might want to increase the number of iterations. Duality gap: 988.3107132030133, tolerance: 5.987458301962521\n",
      "  positive)\n",
      "C:\\Users\\avala\\Anaconda3\\lib\\site-packages\\sklearn\\linear_model\\coordinate_descent.py:475: ConvergenceWarning: Objective did not converge. You might want to increase the number of iterations. Duality gap: 920.1223074643772, tolerance: 4.816711063191518\n",
      "  positive)\n",
      "C:\\Users\\avala\\Anaconda3\\lib\\site-packages\\sklearn\\linear_model\\coordinate_descent.py:475: ConvergenceWarning: Objective did not converge. You might want to increase the number of iterations. Duality gap: 1931.4869208807004, tolerance: 5.987458301962521\n",
      "  positive)\n",
      "C:\\Users\\avala\\Anaconda3\\lib\\site-packages\\sklearn\\linear_model\\coordinate_descent.py:475: ConvergenceWarning: Objective did not converge. You might want to increase the number of iterations. Duality gap: 1363.4325210550373, tolerance: 4.816711063191518\n",
      "  positive)\n",
      "C:\\Users\\avala\\Anaconda3\\lib\\site-packages\\sklearn\\linear_model\\coordinate_descent.py:475: ConvergenceWarning: Objective did not converge. You might want to increase the number of iterations. Duality gap: 3593.234191688812, tolerance: 5.987458301962521\n",
      "  positive)\n",
      "C:\\Users\\avala\\Anaconda3\\lib\\site-packages\\sklearn\\linear_model\\coordinate_descent.py:475: ConvergenceWarning: Objective did not converge. You might want to increase the number of iterations. Duality gap: 3808.238349583372, tolerance: 6.3441582435512895\n",
      "  positive)\n",
      "C:\\Users\\avala\\Anaconda3\\lib\\site-packages\\sklearn\\model_selection\\_search.py:814: DeprecationWarning: The default of the `iid` parameter will change from True to False in version 0.22 and will be removed in 0.24. This will change numeric results when test-set sizes are unequal.\n",
      "  DeprecationWarning)\n"
     ]
    },
    {
     "data": {
      "text/plain": [
       "GridSearchCV(cv=5, error_score='raise-deprecating',\n",
       "             estimator=Lasso(alpha=1.0, copy_X=True, fit_intercept=True,\n",
       "                             max_iter=1000, normalize=False, positive=False,\n",
       "                             precompute=False, random_state=None,\n",
       "                             selection='cyclic', tol=0.0001, warm_start=False),\n",
       "             iid='warn', n_jobs=None,\n",
       "             param_grid={'alpha': [1e-15, 1e-10, 1e-08, 0.0001, 0.001, 0.01, 1,\n",
       "                                   5, 10, 20]},\n",
       "             pre_dispatch='2*n_jobs', refit=True, return_train_score=False,\n",
       "             scoring='neg_mean_squared_error', verbose=0)"
      ]
     },
     "execution_count": 7,
     "metadata": {},
     "output_type": "execute_result"
    }
   ],
   "source": [
    "from sklearn.linear_model import Lasso\n",
    "\n",
    "lasso = Lasso()\n",
    "\n",
    "parameters = {'alpha':[1e-15,1e-10,1e-8,1e-4,1e-3,1e-2,1,5,10,20]}\n",
    "\n",
    "lassoregressor = GridSearchCV(lasso, parameters, scoring = 'neg_mean_squared_error', cv=5)\n",
    "\n",
    "lassoregressor.fit(X,Y)"
   ]
  },
  {
   "cell_type": "code",
   "execution_count": 8,
   "metadata": {},
   "outputs": [
    {
     "name": "stdout",
     "output_type": "stream",
     "text": [
      "Best Parameter : {'alpha': 0.01}\n",
      "Best Estimator Lasso(alpha=0.01, copy_X=True, fit_intercept=True, max_iter=1000,\n",
      "      normalize=False, positive=False, precompute=False, random_state=None,\n",
      "      selection='cyclic', tol=0.0001, warm_start=False)\n",
      "Best Score -0.0033247590759838217\n"
     ]
    }
   ],
   "source": [
    "print(\"Best Parameter :\",lassoregressor.best_params_)\n",
    "print(\"Best Estimator\",lassoregressor.best_estimator_)\n",
    "print(\"Best Score\",lassoregressor.best_score_)"
   ]
  },
  {
   "cell_type": "markdown",
   "metadata": {},
   "source": [
    "## Professionalism\n",
    "50% Minghao Ru\n",
    "\n",
    "50% Tong Yang\n",
    "\n",
    "\n",
    "## Licensing\n",
    "Copyright <2020> Minghao Ru, Tong Yang\n",
    "\n",
    "Permission is hereby granted, free of charge, to any person obtaining a copy of this software and associated documentation files (the \"Software\"), to deal in the Software without restriction, including without limitation the rights to use, copy, modify, merge, publish, distribute, sublicense, and/or sell copies of the Software, and to permit persons to whom the Software is furnished to do so, subject to the following conditions:\n",
    "\n",
    "The above copyright notice and this permission notice shall be included in all copies or substantial portions of the Software.\n",
    "\n",
    "THE SOFTWARE IS PROVIDED \"AS IS\", WITHOUT WARRANTY OF ANY KIND, EXPRESS OR IMPLIED, INCLUDING BUT NOT LIMITED TO THE WARRANTIES OF MERCHANTABILITY, FITNESS FOR A PARTICULAR PURPOSE AND NONINFRINGEMENT. IN NO EVENT SHALL THE AUTHORS OR COPYRIGHT HOLDERS BE LIABLE FOR ANY CLAIM, DAMAGES OR OTHER LIABILITY, WHETHER IN AN ACTION OF CONTRACT, TORT OR OTHERWISE, ARISING FROM, OUT OF OR IN CONNECTION WITH THE SOFTWARE OR THE USE OR OTHER DEALINGS IN THE SOFTWARE."
   ]
  },
  {
   "cell_type": "markdown",
   "metadata": {},
   "source": [
    "# References"
   ]
  },
  {
   "cell_type": "markdown",
   "metadata": {},
   "source": [
    "https://www.kaggle.com/jashwanthram10/simple-linear-regression\n",
    "\n",
    "https://www.kaggle.com/vuqarxxx/starter-huge-stock-market-dataset-cf10d29c-2\n",
    "\n"
   ]
  }
 ],
 "metadata": {
  "kernelspec": {
   "display_name": "Python 3",
   "language": "python",
   "name": "python3"
  },
  "language_info": {
   "codemirror_mode": {
    "name": "ipython",
    "version": 3
   },
   "file_extension": ".py",
   "mimetype": "text/x-python",
   "name": "python",
   "nbconvert_exporter": "python",
   "pygments_lexer": "ipython3",
   "version": "3.7.3"
  }
 },
 "nbformat": 4,
 "nbformat_minor": 4
}
