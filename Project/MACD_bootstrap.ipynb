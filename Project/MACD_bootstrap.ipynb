{
  "nbformat": 4,
  "nbformat_minor": 0,
  "metadata": {
    "kernelspec": {
      "display_name": "Python 3",
      "language": "python",
      "name": "python3"
    },
    "language_info": {
      "codemirror_mode": {
        "name": "ipython",
        "version": 3
      },
      "file_extension": ".py",
      "mimetype": "text/x-python",
      "name": "python",
      "nbconvert_exporter": "python",
      "pygments_lexer": "ipython3",
      "version": "3.7.3"
    },
    "colab": {
      "name": "FB2_MACD_bootstrap (1).ipynb",
      "provenance": [],
      "collapsed_sections": []
    }
  },
  "cells": [
    {
      "cell_type": "code",
      "metadata": {
        "id": "MnHd1Qa2VtJJ",
        "colab_type": "code",
        "colab": {}
      },
      "source": [
        "import matplotlib.pyplot as plt\n",
        "import numpy as np\n",
        "import pandas as pd\n",
        "from scipy import stats\n",
        "import seaborn as sns\n",
        "import scipy.stats as ss\n",
        "from pandas_datareader import DataReader\n",
        "from datetime import datetime\n",
        "\n",
        "# Make plots larger\n",
        "plt.rcParams['figure.figsize'] = (15, 9)"
      ],
      "execution_count": 2,
      "outputs": []
    },
    {
      "cell_type": "code",
      "metadata": {
        "id": "qnd544JoVtJT",
        "colab_type": "code",
        "colab": {
          "base_uri": "https://localhost:8080/",
          "height": 204
        },
        "outputId": "5f23040c-12e2-42bf-dd60-9d586fc6e5e5"
      },
      "source": [
        "facebook = DataReader('FB',  'yahoo', datetime(2016,4,1), datetime(2019,9,1));\n",
        "facebook.reset_index(inplace=True,drop=False)\n",
        "facebook.set_index('Date')\n",
        "facebook['OpenTmr'] = facebook['Open'].shift(-1)\n",
        "facebook['OpenClose']= (facebook['Open']+ facebook['Close'])/2\n",
        "facebook['HighLow'] = (facebook['High']+ facebook['Low'])/2\n",
        "facebook['OCHL'] = (facebook['Open']+ facebook['Close']+facebook['High']+ facebook['Low'])/4\n",
        "facebook.head()"
      ],
      "execution_count": 3,
      "outputs": [
        {
          "output_type": "execute_result",
          "data": {
            "text/html": [
              "<div>\n",
              "<style scoped>\n",
              "    .dataframe tbody tr th:only-of-type {\n",
              "        vertical-align: middle;\n",
              "    }\n",
              "\n",
              "    .dataframe tbody tr th {\n",
              "        vertical-align: top;\n",
              "    }\n",
              "\n",
              "    .dataframe thead th {\n",
              "        text-align: right;\n",
              "    }\n",
              "</style>\n",
              "<table border=\"1\" class=\"dataframe\">\n",
              "  <thead>\n",
              "    <tr style=\"text-align: right;\">\n",
              "      <th></th>\n",
              "      <th>Date</th>\n",
              "      <th>High</th>\n",
              "      <th>Low</th>\n",
              "      <th>Open</th>\n",
              "      <th>Close</th>\n",
              "      <th>Volume</th>\n",
              "      <th>Adj Close</th>\n",
              "      <th>OpenTmr</th>\n",
              "      <th>OpenClose</th>\n",
              "      <th>HighLow</th>\n",
              "      <th>OCHL</th>\n",
              "    </tr>\n",
              "  </thead>\n",
              "  <tbody>\n",
              "    <tr>\n",
              "      <th>0</th>\n",
              "      <td>2016-04-01</td>\n",
              "      <td>116.169998</td>\n",
              "      <td>113.349998</td>\n",
              "      <td>113.750000</td>\n",
              "      <td>116.059998</td>\n",
              "      <td>24760500</td>\n",
              "      <td>116.059998</td>\n",
              "      <td>114.070000</td>\n",
              "      <td>114.904999</td>\n",
              "      <td>114.759998</td>\n",
              "      <td>114.832499</td>\n",
              "    </tr>\n",
              "    <tr>\n",
              "      <th>1</th>\n",
              "      <td>2016-04-04</td>\n",
              "      <td>114.550003</td>\n",
              "      <td>111.610001</td>\n",
              "      <td>114.070000</td>\n",
              "      <td>112.550003</td>\n",
              "      <td>48487900</td>\n",
              "      <td>112.550003</td>\n",
              "      <td>112.110001</td>\n",
              "      <td>113.310001</td>\n",
              "      <td>113.080002</td>\n",
              "      <td>113.195002</td>\n",
              "    </tr>\n",
              "    <tr>\n",
              "      <th>2</th>\n",
              "      <td>2016-04-05</td>\n",
              "      <td>113.320000</td>\n",
              "      <td>111.900002</td>\n",
              "      <td>112.110001</td>\n",
              "      <td>112.220001</td>\n",
              "      <td>22962400</td>\n",
              "      <td>112.220001</td>\n",
              "      <td>112.470001</td>\n",
              "      <td>112.165001</td>\n",
              "      <td>112.610001</td>\n",
              "      <td>112.387501</td>\n",
              "    </tr>\n",
              "    <tr>\n",
              "      <th>3</th>\n",
              "      <td>2016-04-06</td>\n",
              "      <td>113.809998</td>\n",
              "      <td>112.419998</td>\n",
              "      <td>112.470001</td>\n",
              "      <td>113.709999</td>\n",
              "      <td>20814600</td>\n",
              "      <td>113.709999</td>\n",
              "      <td>113.790001</td>\n",
              "      <td>113.090000</td>\n",
              "      <td>113.114998</td>\n",
              "      <td>113.102499</td>\n",
              "    </tr>\n",
              "    <tr>\n",
              "      <th>4</th>\n",
              "      <td>2016-04-07</td>\n",
              "      <td>114.889999</td>\n",
              "      <td>113.070000</td>\n",
              "      <td>113.790001</td>\n",
              "      <td>113.639999</td>\n",
              "      <td>20714500</td>\n",
              "      <td>113.639999</td>\n",
              "      <td>114.250000</td>\n",
              "      <td>113.715000</td>\n",
              "      <td>113.980000</td>\n",
              "      <td>113.847500</td>\n",
              "    </tr>\n",
              "  </tbody>\n",
              "</table>\n",
              "</div>"
            ],
            "text/plain": [
              "        Date        High         Low  ...   OpenClose     HighLow        OCHL\n",
              "0 2016-04-01  116.169998  113.349998  ...  114.904999  114.759998  114.832499\n",
              "1 2016-04-04  114.550003  111.610001  ...  113.310001  113.080002  113.195002\n",
              "2 2016-04-05  113.320000  111.900002  ...  112.165001  112.610001  112.387501\n",
              "3 2016-04-06  113.809998  112.419998  ...  113.090000  113.114998  113.102499\n",
              "4 2016-04-07  114.889999  113.070000  ...  113.715000  113.980000  113.847500\n",
              "\n",
              "[5 rows x 11 columns]"
            ]
          },
          "metadata": {
            "tags": []
          },
          "execution_count": 3
        }
      ]
    },
    {
      "cell_type": "code",
      "metadata": {
        "id": "vSqXQ0kNVtJa",
        "colab_type": "code",
        "colab": {}
      },
      "source": [
        "N = facebook.shape[0] # total num days\n",
        "num_boot = 300# total num bootstrap\n",
        "T= 250 # start day\n",
        "window = 200 # training period window"
      ],
      "execution_count": 4,
      "outputs": []
    },
    {
      "cell_type": "code",
      "metadata": {
        "id": "npICTybJVtJd",
        "colab_type": "code",
        "colab": {}
      },
      "source": [
        "df = facebook[['Close']]\n",
        "df.reset_index(level=0, inplace=True)\n",
        "df.columns=['ds','y']\n",
        "\n",
        "X1 = df.y.ewm(span=12, adjust=False).mean()\n",
        "X2 = df.y.ewm(span=26, adjust=False).mean()\n",
        "X = X1 - X2\n",
        "Y =facebook['OpenTmr'][-(N-(T+1)):].values\n",
        "#X = np.column_stack([np.ones((T,1)),X])\n",
        "#print(X)\n",
        "#print(Y.shape)\n",
        "#movAverage1= (movAvg) "
      ],
      "execution_count": 5,
      "outputs": []
    },
    {
      "cell_type": "code",
      "metadata": {
        "id": "QgF0xE9eVtJi",
        "colab_type": "code",
        "colab": {}
      },
      "source": [
        "def MACD(X, Y):\n",
        "    \n",
        "    T = X.shape[0]\n",
        "    #print(T)\n",
        "    #mu = (facebook['Open '].mean(),facebook['Open '].mean(),facebook['Open '].mean()) \n",
        "    #cov = [[1,0.75,-0.35],[0.75,1,0.9],[-0.35,0.9,1]]\n",
        "    #F = np.random.multivariate_normal(mu,cov,T)\n",
        "    #Sample for Y,X\n",
        "    X = np.column_stack([np.ones((T,1)),X])\n",
        "    #T = X.shape[0]\n",
        "    N = X.shape\n",
        "    #beta = np.array([0.56,2.53,2.05,1.78])\n",
        "    #beta.shape=(N[1],1)\n",
        "    #Y =X@beta+np.random.normal(0,1,(T,1))\n",
        "    #Y=facebook['Open '].values\n",
        "    #print(T)\n",
        "    invXX = np.linalg.inv(X.transpose()@X)\n",
        "    beta_hat = invXX@X.transpose()@Y\n",
        "    y_hat = X@beta_hat\n",
        "    \n",
        "    residuals = Y-y_hat\n",
        "    sigma2 = (1/T)*residuals.transpose()@residuals\n",
        "\n",
        "    sigma = np.sqrt(sigma2)\n",
        "\n",
        "    #variance - covariance of beta_hat\n",
        "    varcov_beta_hat = (sigma2)*invXX\n",
        "    std_beta_hat = np.sqrt(T*np.diag(varcov_beta_hat))\n",
        "\n",
        "    R_square = 1-(residuals.transpose()@residuals)/(T*np.var(Y))\n",
        "\n",
        "    adj_R_square = 1-(1-R_square)*(T-1)/(T - N[1])\n",
        "\n",
        "    #Testing Coefficents:beta_i\n",
        "    #Null Hypotesis\n",
        "\n",
        "    t_stat = (beta_hat.transpose()-0)/std_beta_hat\n",
        "    p_val = 1-ss.norm.cdf(t_stat)\n",
        "    #print(p_val)\n",
        "    #Test of joint significance\n",
        "    F_stat= (beta_hat.transpose()@np.linalg.inv(varcov_beta_hat)@beta_hat/N[1])/(residuals.transpose()@residuals/(T-N[1]))\n",
        "    p_val_F= 1 - ss.f.cdf(F_stat,N[1]-1, T-N[1])\n",
        "    \n",
        "    return beta_hat,y_hat"
      ],
      "execution_count": 6,
      "outputs": []
    },
    {
      "cell_type": "code",
      "metadata": {
        "id": "FeYAcxvSVtJl",
        "colab_type": "code",
        "colab": {}
      },
      "source": [
        "def bootstrap():\n",
        "    T = 250\n",
        "    #print(T)\n",
        "    N = X.shape[0]\n",
        "    #print(N)\n",
        "    \n",
        "    yhat_macd = np.zeros(N-(T+1))\n",
        "    window = 200\n",
        "    num_boost = 300 # increase\n",
        "    \n",
        "    for t in range(T+1,N):\n",
        "        X_train = df.y.ewm(span=5, adjust=False).mean()[t-window:t-1]\n",
        "        #X_train = np.column_stack([np.ones((len(X_train),1)),X_train])\n",
        "        Y_train = facebook[['OpenTmr']][t-window:t-1].values\n",
        "        #print(X_train.shape)\n",
        "        #print(Y_train.shape)\n",
        "        X_pred = df.y.ewm(span=5, adjust=False).mean()[t-1:t]\n",
        "        X_pred = np.column_stack([np.ones((len(X_pred),1)),X_pred])\n",
        "        \n",
        "        yhat_train = MACD(X_train , Y_train)[1]\n",
        "        res_train = Y_train - yhat_train\n",
        "       \n",
        "        y_pred_all = np.zeros(num_boost)\n",
        "       \n",
        "        for i in range (0,num_boost):\n",
        "            #err = np.random.choice(res_train,(window-1, ),replace = True)\n",
        "            err = res_train\n",
        "            y_bstr = yhat_train + err\n",
        "            beta_bstr = MACD(X_train,y_bstr)[0]\n",
        "            #print(X_pred.shape)\n",
        "            #print(beta_bstr.shape)\n",
        " \n",
        "            y_pred_bstr = X_pred@beta_bstr\n",
        "            y_pred_all[i] = y_pred_bstr\n",
        "           \n",
        "        y_pred_macd = y_pred_all.mean()\n",
        "       \n",
        "        yhat_macd[t-(T+1)] = y_pred_macd\n",
        "   \n",
        "   \n",
        "    rmse_macd = np.sqrt(np.mean((Y[27:-1] - yhat_macd[27:-1])**2))\n",
        "   \n",
        "    return yhat_macd,rmse_macd"
      ],
      "execution_count": 7,
      "outputs": []
    },
    {
      "cell_type": "code",
      "metadata": {
        "id": "juiuGZl9VtJn",
        "colab_type": "code",
        "colab": {}
      },
      "source": [
        "yhat_macd,rmse_macd = bootstrap()"
      ],
      "execution_count": 8,
      "outputs": []
    },
    {
      "cell_type": "code",
      "metadata": {
        "id": "qALXbmGaVtJs",
        "colab_type": "code",
        "colab": {
          "base_uri": "https://localhost:8080/",
          "height": 34
        },
        "outputId": "ba8c89ce-fe6d-4fc8-da51-af01503cd0a4"
      },
      "source": [
        "rmse_macd"
      ],
      "execution_count": 9,
      "outputs": [
        {
          "output_type": "execute_result",
          "data": {
            "text/plain": [
              "5.1444098494264665"
            ]
          },
          "metadata": {
            "tags": []
          },
          "execution_count": 9
        }
      ]
    },
    {
      "cell_type": "code",
      "metadata": {
        "id": "wBviEYZjVtJx",
        "colab_type": "code",
        "colab": {
          "base_uri": "https://localhost:8080/",
          "height": 34
        },
        "outputId": "5e59bae9-2845-4533-9c91-d6225c0880a8"
      },
      "source": [
        "yhat_macd.shape"
      ],
      "execution_count": 10,
      "outputs": [
        {
          "output_type": "execute_result",
          "data": {
            "text/plain": [
              "(610,)"
            ]
          },
          "metadata": {
            "tags": []
          },
          "execution_count": 10
        }
      ]
    },
    {
      "cell_type": "code",
      "metadata": {
        "id": "B5ywRYLwVtJz",
        "colab_type": "code",
        "colab": {}
      },
      "source": [
        ""
      ],
      "execution_count": null,
      "outputs": []
    }
  ]
}