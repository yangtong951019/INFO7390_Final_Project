{
 "cells": [
  {
   "cell_type": "code",
   "execution_count": 1,
   "metadata": {},
   "outputs": [
    {
     "name": "stdout",
     "output_type": "stream",
     "text": [
      "                  High         Low        Open       Close    Volume  \\\n",
      "Date                                                                   \n",
      "2019-01-02  137.509995  128.559998  128.990005  135.679993  28146200   \n",
      "2019-01-03  137.169998  131.119995  134.690002  131.740005  22717900   \n",
      "2019-01-04  138.000000  133.750000  134.009995  137.949997  29002100   \n",
      "2019-01-07  138.869995  135.910004  137.559998  138.050003  20089300   \n",
      "\n",
      "             Adj Close  \n",
      "Date                    \n",
      "2019-01-02  135.679993  \n",
      "2019-01-03  131.740005  \n",
      "2019-01-04  137.949997  \n",
      "2019-01-07  138.050003  \n"
     ]
    },
    {
     "name": "stderr",
     "output_type": "stream",
     "text": [
      "C:\\Users\\avala\\Anaconda3\\lib\\site-packages\\ipykernel_launcher.py:12: DeprecationWarning: \n",
      ".ix is deprecated. Please use\n",
      ".loc for label based indexing or\n",
      ".iloc for positional indexing\n",
      "\n",
      "See the documentation here:\n",
      "http://pandas.pydata.org/pandas-docs/stable/indexing.html#ix-indexer-is-deprecated\n",
      "  if sys.path[0] == '':\n",
      "C:\\Users\\avala\\Anaconda3\\lib\\site-packages\\ipykernel_launcher.py:13: DeprecationWarning: \n",
      ".ix is deprecated. Please use\n",
      ".loc for label based indexing or\n",
      ".iloc for positional indexing\n",
      "\n",
      "See the documentation here:\n",
      "http://pandas.pydata.org/pandas-docs/stable/indexing.html#ix-indexer-is-deprecated\n",
      "  del sys.path[0]\n"
     ]
    },
    {
     "data": {
      "text/plain": [
       "array([135.67999268, 131.74000549, 137.94999695, 138.05000305,\n",
       "       142.52999878, 144.22999573, 144.19999695, 143.80000305,\n",
       "       145.38999939, 148.94999695, 147.53999329, 148.30000305,\n",
       "       150.03999329, 147.57000732, 144.30000305, 145.83000183,\n",
       "       149.00999451, 147.47000122, 144.19000244, 150.41999817,\n",
       "       166.69000244, 165.71000671, 169.25      , 171.16000366,\n",
       "       170.49000549, 166.38000488, 167.33000183, 165.78999329,\n",
       "       165.03999329, 164.07000732, 163.94999695, 162.5       ,\n",
       "       162.28999329, 162.55999756, 160.03999329, 161.88999939,\n",
       "       164.61999512, 164.13000488, 162.80999756, 161.44999695,\n",
       "       162.27999878, 167.36999512, 171.25999451, 172.50999451,\n",
       "       169.13000488, 169.6000061 , 172.07000732, 171.91999817,\n",
       "       173.36999512, 170.16999817, 165.97999573, 160.47000122,\n",
       "       161.57000732, 165.44000244, 166.08000183, 164.33999634,\n",
       "       166.28999329, 167.67999268, 165.86999512, 165.55000305,\n",
       "       166.69000244, 168.69999695, 174.19999695, 173.53999329,\n",
       "       176.02000427, 175.72000122, 174.92999268, 177.58000183,\n",
       "       177.82000732, 177.50999451, 179.1000061 , 179.6499939 ,\n",
       "       178.86999512, 178.77999878, 178.27999878, 181.44000244,\n",
       "       183.77999878, 182.58000183, 193.25999451, 191.49000549,\n",
       "       194.77999878, 193.3999939 , 193.02999878, 192.52999878,\n",
       "       195.47000122, 193.88000488, 189.77000427, 189.53999329,\n",
       "       188.6499939 , 188.33999634, 181.53999329, 180.72999573,\n",
       "       186.27000427, 186.99000549, 185.30000305, 182.72000122,\n",
       "       184.82000732, 185.32000732, 180.86999512, 181.05999756,\n",
       "       184.30999756, 182.19000244, 183.00999451, 177.47000122,\n",
       "       164.1499939 , 167.5       , 168.16999817, 168.33000183,\n",
       "       173.3500061 , 174.82000732, 178.1000061 , 175.03999329,\n",
       "       177.47000122, 181.33000183, 189.00999451, 188.47000122,\n",
       "       187.47999573, 189.52999878, 191.13999939, 192.6000061 ,\n",
       "       188.83999634, 187.66000366, 189.5       , 193.        ,\n",
       "       193.        , 195.        , 197.19999695, 196.3999939 ,\n",
       "       195.75999451, 199.21000671, 202.72999573, 201.22999573,\n",
       "       204.86999512, 203.91000366, 203.83999634, 201.80000305,\n",
       "       200.77999878, 198.36000061, 202.32000732, 202.36000061,\n",
       "       204.66000366, 200.71000671, 199.75      , 195.94000244,\n",
       "       197.03999329, 194.22999573, 192.72999573, 189.02000427,\n",
       "       181.72999573, 184.50999451, 185.1499939 , 190.16000366,\n",
       "       187.8500061 , 185.36999512, 188.44999695, 179.71000671,\n",
       "       182.58999634, 183.69999695, 186.16999817, 183.80999756,\n",
       "       183.55000305, 182.03999329, 177.75      , 180.36000061,\n",
       "       181.30000305, 181.75999451, 185.57000732, 185.66999817,\n",
       "       182.38999939, 187.13999939, 190.8999939 , 187.49000549,\n",
       "       188.75999451, 186.16999817, 188.49000549, 187.47000122,\n",
       "       187.19000244, 186.22000122, 188.08000183, 188.13999939,\n",
       "       190.13999939, 189.92999268, 186.82000732, 181.27999878,\n",
       "       182.80000305, 180.11000061, 177.1000061 , 178.08000183,\n",
       "       175.80999756, 174.6000061 , 179.38000488, 180.44999695,\n",
       "       179.67999268, 177.75      , 179.8500061 , 180.02999878,\n",
       "       184.19000244, 183.27999878, 188.88999939, 189.55000305,\n",
       "       190.38999939, 185.8500061 , 189.75999451, 182.33999634,\n",
       "       186.1499939 , 186.38000488, 187.88999939, 189.3999939 ,\n",
       "       189.30999756, 188.25      , 191.6499939 , 193.61999512,\n",
       "       194.72000122, 194.32000732, 191.55000305, 190.41999817,\n",
       "       190.83999634, 189.61000061, 194.47000122, 193.19000244,\n",
       "       193.1499939 , 195.1000061 , 197.3999939 , 199.32000732,\n",
       "       197.50999451, 197.92999268, 198.82000732, 199.78999329,\n",
       "       198.97000122, 202.        , 201.63999939, 199.69999695,\n",
       "       198.82000732, 198.71000671, 199.36000061, 201.05000305,\n",
       "       201.33999634, 200.86999512, 202.25999451, 196.75      ,\n",
       "       194.11000061, 197.91999817, 198.38999939, 202.5       ,\n",
       "       206.05999756, 206.30000305, 206.17999268, 205.11999512,\n",
       "       207.78999329, 208.1000061 , 204.41000366, 205.25      ])"
      ]
     },
     "execution_count": 1,
     "metadata": {},
     "output_type": "execute_result"
    }
   ],
   "source": [
    "from pandas_datareader import DataReader\n",
    "from datetime import datetime\n",
    "import numpy as np\n",
    "import pandas as pd\n",
    "from pandas import read_csv\n",
    "from pandas import datetime\n",
    "from matplotlib import pyplot\n",
    "from sklearn.preprocessing import StandardScaler\n",
    "\n",
    "FB = DataReader('FB',  'yahoo', datetime(2019,1,1), datetime(2019,12,31));\n",
    "FB.head()\n",
    "print(FB.ix[:4,0:6])\n",
    "FB.ix[:,'Close'].values"
   ]
  },
  {
   "cell_type": "markdown",
   "metadata": {},
   "source": [
    "### PCA"
   ]
  },
  {
   "cell_type": "code",
   "execution_count": 2,
   "metadata": {},
   "outputs": [
    {
     "name": "stderr",
     "output_type": "stream",
     "text": [
      "C:\\Users\\avala\\Anaconda3\\lib\\site-packages\\ipykernel_launcher.py:5: DeprecationWarning: \n",
      ".ix is deprecated. Please use\n",
      ".loc for label based indexing or\n",
      ".iloc for positional indexing\n",
      "\n",
      "See the documentation here:\n",
      "http://pandas.pydata.org/pandas-docs/stable/indexing.html#ix-indexer-is-deprecated\n",
      "  \"\"\"\n",
      "C:\\Users\\avala\\Anaconda3\\lib\\site-packages\\ipykernel_launcher.py:6: DeprecationWarning: \n",
      ".ix is deprecated. Please use\n",
      ".loc for label based indexing or\n",
      ".iloc for positional indexing\n",
      "\n",
      "See the documentation here:\n",
      "http://pandas.pydata.org/pandas-docs/stable/indexing.html#ix-indexer-is-deprecated\n",
      "  \n"
     ]
    },
    {
     "name": "stdout",
     "output_type": "stream",
     "text": [
      "[[ 0.50044344  0.7715153   0.3887586   0.05645585  0.0363988   0.25517256]\n",
      " [ 0.48144448 -0.06282999 -0.46997121 -0.17280906 -0.19549745 -0.69705911]\n",
      " [ 0.37853035  0.0187844  -0.4585593  -0.45445443  0.17901378  0.63189102]\n",
      " [ 0.40504164 -0.33769034  0.08459646  0.44185377 -0.65868898  0.02014643]\n",
      " [-0.2153251   0.41520376 -0.63514097  0.60823633  0.04344679  0.22112788]\n",
      " [ 0.40504164 -0.33769034  0.08459646  0.44185377  0.70189112  0.02014643]]\n"
     ]
    },
    {
     "data": {
      "text/plain": [
       "[3.7984683726400967,\n",
       " 1.919801088227163,\n",
       " 0.28173053913273993,\n",
       " 6.572733521840852e-16,\n",
       " 2.4085904525334865e-16,\n",
       " 0.0]"
      ]
     },
     "execution_count": 2,
     "metadata": {},
     "output_type": "execute_result"
    }
   ],
   "source": [
    "def getPCA():\n",
    "    result = []\n",
    "    data = FB\n",
    "    data=FB.dropna()\n",
    "    X = data.ix[:4,0:6].values\n",
    "    y = data.ix[:,'Close'].values\n",
    "    X_std = StandardScaler().fit_transform(X)\n",
    "    mean_vec = np.mean(X_std, axis=0)\n",
    "    cov_mat = (X_std - mean_vec).T.dot((X_std - mean_vec)) / (X_std.shape[0]-1)\n",
    "    cov_mat = np.cov(X_std.T)\n",
    "    eig_vals, eig_vecs = np.linalg.eig(cov_mat)\n",
    "    cor_mat2 = np.corrcoef(X.T)\n",
    "    eig_vals, eig_vecs = np.linalg.eig(cor_mat2)\n",
    "    eig_pairs = [(np.abs(eig_vals[i]), eig_vecs[:,i]) for i in range(len(eig_vals))]\n",
    "    eig_pairs.sort()\n",
    "    eig_pairs.reverse()\n",
    "    print(eig_vecs)\n",
    "    for i in eig_pairs:\n",
    "        result.append(i[0])\n",
    "    return result\n",
    "getPCA()"
   ]
  },
  {
   "cell_type": "markdown",
   "metadata": {},
   "source": [
    "## Professionalism\n",
    "50% Minghao Ru\n",
    "\n",
    "50% Tong Yang\n",
    "\n",
    "\n",
    "## Licensing\n",
    "Copyright <2020> Minghao Ru, Tong Yang\n",
    "\n",
    "Permission is hereby granted, free of charge, to any person obtaining a copy of this software and associated documentation files (the \"Software\"), to deal in the Software without restriction, including without limitation the rights to use, copy, modify, merge, publish, distribute, sublicense, and/or sell copies of the Software, and to permit persons to whom the Software is furnished to do so, subject to the following conditions:\n",
    "\n",
    "The above copyright notice and this permission notice shall be included in all copies or substantial portions of the Software.\n",
    "\n",
    "THE SOFTWARE IS PROVIDED \"AS IS\", WITHOUT WARRANTY OF ANY KIND, EXPRESS OR IMPLIED, INCLUDING BUT NOT LIMITED TO THE WARRANTIES OF MERCHANTABILITY, FITNESS FOR A PARTICULAR PURPOSE AND NONINFRINGEMENT. IN NO EVENT SHALL THE AUTHORS OR COPYRIGHT HOLDERS BE LIABLE FOR ANY CLAIM, DAMAGES OR OTHER LIABILITY, WHETHER IN AN ACTION OF CONTRACT, TORT OR OTHERWISE, ARISING FROM, OUT OF OR IN CONNECTION WITH THE SOFTWARE OR THE USE OR OTHER DEALINGS IN THE SOFTWARE."
   ]
  },
  {
   "cell_type": "code",
   "execution_count": null,
   "metadata": {},
   "outputs": [],
   "source": []
  }
 ],
 "metadata": {
  "kernelspec": {
   "display_name": "Python 3",
   "language": "python",
   "name": "python3"
  },
  "language_info": {
   "codemirror_mode": {
    "name": "ipython",
    "version": 3
   },
   "file_extension": ".py",
   "mimetype": "text/x-python",
   "name": "python",
   "nbconvert_exporter": "python",
   "pygments_lexer": "ipython3",
   "version": "3.7.3"
  }
 },
 "nbformat": 4,
 "nbformat_minor": 4
}
